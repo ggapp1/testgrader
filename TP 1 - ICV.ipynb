{
 "cells": [
  {
   "cell_type": "code",
   "execution_count": 2,
   "metadata": {},
   "outputs": [],
   "source": [
    "import cv2\n",
    "import numpy as np\n",
    "import matplotlib.pyplot as plt"
   ]
  },
  {
   "cell_type": "markdown",
   "metadata": {},
   "source": [
    "A função abaixo identifica qual das alternativas de uma questão foi marcada, de acordo com a coordenada do eixo X.\n",
    "Como são duas colunas de respostas (de 1 a 15 e de 16 a 30),\n",
    "são utilizados dois range para identificar de qual coluna se trata, e a partir disso é possivel identificar a opção marcada."
   ]
  },
  {
   "cell_type": "code",
   "execution_count": 4,
   "metadata": {},
   "outputs": [],
   "source": [
    "def getOption(x):\n",
    "\tif x in range(40,70) or x in range(370,400):\n",
    "\t\treturn 'A'\n",
    "\tif x in range(85,115) or x in range(415,445):\n",
    "\t\treturn 'B'\n",
    "\tif x in range(130,160) or x in range(460,490):\n",
    "\t\treturn 'C'\n",
    "\tif x in range(175,200) or x in range(505,535):\n",
    "\t\treturn 'D'\n",
    "\tif x in range(220,255) or x in range(550,580):\n",
    "\t\treturn 'E'\n",
    "\telse:\n",
    "\t\treturn 'Erro' + str(x)"
   ]
  },
  {
   "cell_type": "markdown",
   "metadata": {},
   "source": [
    "A função abaixa identifica qual questão está sendo corrigida, dentre as 30 possíveis. É utilizado a coordenada y para identificar em qual linha a questão está. Como são duas questões por linha (1 e 16, 2 e 17, etc), a coordenada x é utilizada para discernir entre as duas possibilidades."
   ]
  },
  {
   "cell_type": "code",
   "execution_count": null,
   "metadata": {},
   "outputs": [],
   "source": [
    "def getAnswer(x,y):\n",
    "#\tprint x\n",
    "\t#line 1\n",
    "\tif y in range(3,13):\n",
    "\t\tif x > 300:\n",
    "\t\t\treturn 16\n",
    "\t\telse:\n",
    "\t\t\treturn 1\n",
    "\t\t\t\n",
    "\t#line 2\n",
    "\tif y in range(25,35):\n",
    "\t\tif x > 300:\n",
    "\t\t\treturn 17\n",
    "\t\telse:\n",
    "\t\t\treturn 2\n",
    "\t\t\t\n",
    "\t#line 3\n",
    "\tif y in range(47,57):\n",
    "\t\tif x > 300:\n",
    "\t\t\treturn 18\n",
    "\t\telse:\n",
    "\t\t\treturn 3\n",
    "\t#line 4\n",
    "\tif y in range(67,77):\n",
    "\t\tif x > 300:\n",
    "\t\t\treturn 19\n",
    "\t\telse:\n",
    "\t\t\treturn 4\n",
    "\t#line 5\n",
    "\tif y in range(93,103):\n",
    "\t\tif x > 300:\n",
    "\t\t\treturn 20\n",
    "\t\t\t\n",
    "\t\telse:\n",
    "\t\t\treturn 5\n",
    "\t#line 6\n",
    "\tif y in range(115,125):\n",
    "\t\tif x > 300:\n",
    "\t\t\treturn 21\n",
    "\t\telse:\n",
    "\t\t\treturn 6\n",
    "\t#line 7\n",
    "\tif y in range(138,148):\n",
    "\t\tif x > 300:\n",
    "\t\t\treturn 22\n",
    "\t\telse:\n",
    "\t\t\treturn 7\n",
    "\t#line 8\n",
    "\tif y in range(160,170):\n",
    "\t\tif x > 300:\n",
    "\t\t\treturn 23\n",
    "\t\t\t\n",
    "\t\telse:\n",
    "\t\t\treturn 8\n",
    "\t#line 9\n",
    "\tif y in range(185,195):\n",
    "\t\tif x > 300:\n",
    "\t\t\treturn 24\n",
    "\t\telse:\n",
    "\t\t\treturn 9\n",
    "\t\t\t\n",
    "\t#line 10\n",
    "\tif y in range(207,217):\n",
    "\t\tif x > 300:\n",
    "\t\t\treturn 25\n",
    "\t\telse:\n",
    "\t\t\treturn 10\n",
    "\t#line 11\n",
    "\tif y in range(228,238):\n",
    "\t\tif x > 300:\n",
    "\t\t\treturn 26\n",
    "\t\telse:\n",
    "\t\t\treturn 11\n",
    "\t#line 12\n",
    "\tif y in range(252,262):\n",
    "\t\tif x > 300:\n",
    "\t\t\treturn 27\n",
    "\t\telse:\n",
    "\t\t\treturn 12\n",
    "\t#line 13\n",
    "\tif y in range(275,285):\n",
    "\t\tif x > 300:\n",
    "\t\t\treturn 28\n",
    "\t\telse:\n",
    "\t\t\treturn 13\n",
    "\t#line 14\n",
    "\tif y in range(300,310):\n",
    "\t\tif x > 300:\n",
    "\t\t\treturn 29\n",
    "\t\telse:\n",
    "\t\t\treturn 14\n",
    "\t#line 15\n",
    "\tif y in range(320,330):\t\n",
    "\t\tif x > 300:\n",
    "\t\t\treturn 30\n",
    "\t\telse:\n",
    "\t\t\treturn 15\n"
   ]
  },
  {
   "cell_type": "code",
   "execution_count": null,
   "metadata": {},
   "outputs": [],
   "source": []
  },
  {
   "cell_type": "code",
   "execution_count": null,
   "metadata": {},
   "outputs": [],
   "source": [
    "def getImages(image):\n",
    "\timage = cv2.resize(image,(960,1080))\n",
    "\timage = image[330:680,193:804]\n",
    "\tgray = cv2.cvtColor(image, cv2.COLOR_BGR2GRAY)\n",
    "\tblurred = cv2.GaussianBlur(gray, (5, 5), 0)\n",
    "\tedged = cv2.Canny(blurred, 75, 200)\n",
    "\tthresh = cv2.threshold(gray, 0, 255,cv2.THRESH_BINARY_INV | cv2.THRESH_OTSU)[1]\n",
    "\n",
    "\treturn rotateImage(image,gray,blurred,edged,thresh)\n"
   ]
  },
  {
   "cell_type": "code",
   "execution_count": null,
   "metadata": {},
   "outputs": [],
   "source": [
    "def getContours(thresh):\n",
    "\tcnts = cv2.findContours(thresh.copy(), cv2.RETR_EXTERNAL,cv2.CHAIN_APPROX_SIMPLE)\n",
    "\treturn cnts[1]\n"
   ]
  },
  {
   "cell_type": "code",
   "execution_count": null,
   "metadata": {},
   "outputs": [],
   "source": [
    "def rotateImage(image,gray,blurred,edged,thresh):\n",
    "\tcnts = getContours(thresh)\n",
    "\tbox = cv2.minAreaRect(cnts[1])\n",
    "\n",
    "\tif box[2] != 0.0: \n",
    "\t\trot_mat = cv2.getRotationMatrix2D(box[0],0 - box[2], 1)\n",
    "\t\timage = cv2.warpAffine(image, rot_mat, (image.shape[0], image.shape[1]), flags=cv2.INTER_LINEAR)\n",
    "\t\tgray = cv2.warpAffine(gray, rot_mat, (gray.shape[0], gray.shape[1]), flags=cv2.INTER_LINEAR)\n",
    "\t\tblurred = cv2.warpAffine(blurred, rot_mat, (blurred.shape[0], blurred.shape[1]), flags=cv2.INTER_LINEAR)\n",
    "\t\tedged = cv2.warpAffine(edged, rot_mat, (edged.shape[0], edged.shape[1]), flags=cv2.INTER_LINEAR)\n",
    "\t\tthresh = cv2.warpAffine(thresh, rot_mat, (thresh.shape[0], thresh.shape[1]), flags=cv2.INTER_LINEAR)\n",
    "\t\tcnts = getContours(thresh)\n",
    "\treturn image,gray,blurred,edged,thresh,cnts"
   ]
  },
  {
   "cell_type": "code",
   "execution_count": null,
   "metadata": {},
   "outputs": [],
   "source": [
    "image = cv2.imread('dados/pattern_0002_scan.png');\n",
    "image, gray, blurred, edged, thresh, cnts = getImages(image)\n"
   ]
  },
  {
   "cell_type": "code",
   "execution_count": null,
   "metadata": {},
   "outputs": [],
   "source": [
    "\n",
    "questionCnts = []\n",
    "lista = [': Branco'] * 31\n",
    "\n",
    "for c in cnts:\n",
    "\tx,y,w,h = cv2.boundingRect(c)\n",
    "\tar = w / float(h)\n",
    "\tmask = np.zeros(thresh.shape, dtype=\"uint8\")\n",
    "\tcv2.drawContours(mask, [c], -1, 255, -1)\n",
    "\t\n",
    "\tmask = cv2.bitwise_and(thresh, thresh, mask=mask)\n",
    "\ttotal = cv2.countNonZero(mask)\n",
    "\n",
    "\tif w >= 10 and h >= 10 and ar >= 1.5 and ar <= 10.1:\n",
    "\t\tif total > 270:\n",
    "\t\t\tif(lista[getAnswer(x,y)] == ': Branco'):\n",
    "\t\t\t\tlista[getAnswer(x,y)] = ': ' + getOption(x)\n",
    "\t\t\telse:\n",
    "\t\t\t\tlista[getAnswer(x,y)] = ': Nulo'\n",
    "\t\t\tcv2.drawContours(image, [c], -1, 255, -1)\n",
    "\n",
    "\n",
    "for i in range(1,31):\n",
    "\tprint str(i) + \" \" + lista[i]\n",
    "\n",
    "plt.imshow(image)\n",
    "plt.show()"
   ]
  }
 ],
 "metadata": {
  "kernelspec": {
   "display_name": "Python 2",
   "language": "python",
   "name": "python2"
  },
  "language_info": {
   "codemirror_mode": {
    "name": "ipython",
    "version": 2
   },
   "file_extension": ".py",
   "mimetype": "text/x-python",
   "name": "python",
   "nbconvert_exporter": "python",
   "pygments_lexer": "ipython2",
   "version": "2.7.13"
  }
 },
 "nbformat": 4,
 "nbformat_minor": 2
}
